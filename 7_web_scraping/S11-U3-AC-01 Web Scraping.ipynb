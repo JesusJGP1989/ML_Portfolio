{
  "nbformat": 4,
  "nbformat_minor": 0,
  "metadata": {
    "colab": {
      "provenance": []
    },
    "kernelspec": {
      "name": "python3",
      "display_name": "Python 3"
    },
    "language_info": {
      "name": "python"
    }
  },
  "cells": [
    {
      "cell_type": "code",
      "execution_count": 1,
      "metadata": {
        "colab": {
          "base_uri": "https://localhost:8080/"
        },
        "id": "mIIhssKlS_Ng",
        "outputId": "bb6c6c2d-ae33-4a01-a0e1-ea65a98a52ef"
      },
      "outputs": [
        {
          "output_type": "stream",
          "name": "stdout",
          "text": [
            "CSV file generated successfully.\n"
          ]
        }
      ],
      "source": [
        "import requests\n",
        "from bs4 import BeautifulSoup\n",
        "import csv\n",
        "\n",
        "def scrape_products(url):\n",
        "    # Send a GET request to the URL\n",
        "    response = requests.get(url)\n",
        "\n",
        "    # Check if request was successful\n",
        "    if response.status_code == 200:\n",
        "        # Parse the HTML content of the page\n",
        "        soup = BeautifulSoup(response.content, 'html.parser')\n",
        "\n",
        "        # Find all the product containers\n",
        "        product_containers = soup.find_all('div', class_='ui-search-result__content')\n",
        "\n",
        "        # Open CSV file in write mode\n",
        "        with open('products.csv', 'w', newline='', encoding='utf-8') as csvfile:\n",
        "            # Create CSV writer object\n",
        "            writer = csv.writer(csvfile)\n",
        "            # Write header row\n",
        "            writer.writerow(['Product', 'Price'])\n",
        "\n",
        "            # Iterate through each product container\n",
        "            for container in product_containers:\n",
        "                # Extract product name\n",
        "                product_name = container.find('h2', class_='ui-search-item__title').text.strip()\n",
        "\n",
        "                # Extract product price\n",
        "                product_price = container.find('span', class_='ui-search-price__part').text.strip()\n",
        "\n",
        "                # Write data to CSV file\n",
        "                writer.writerow([product_name, product_price])\n",
        "\n",
        "            print(\"CSV file generated successfully.\")\n",
        "    else:\n",
        "        print(\"Failed to retrieve data.\")\n",
        "\n",
        "# URL of the website to scrape\n",
        "url = 'https://listado.mercadolibre.com.mx/alexa_Tienda_nuvitu-electronics_NoIndex_True#D[A:alexa,L:undefined,on]'\n",
        "scrape_products(url)"
      ]
    }
  ]
}