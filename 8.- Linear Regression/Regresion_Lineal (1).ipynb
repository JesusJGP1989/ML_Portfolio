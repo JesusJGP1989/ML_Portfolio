{
  "cells": [
    {
      "cell_type": "markdown",
      "id": "6iCaSYEo4VM4",
      "metadata": {
        "id": "6iCaSYEo4VM4"
      },
      "source": [
        "<img src=\"cover_page_linear_reg.png\" alt=\"Alt text\" width=\"700\"/>"
      ]
    },
    {
      "cell_type": "markdown",
      "id": "dfcb1972",
      "metadata": {
        "id": "dfcb1972"
      },
      "source": [
        "#### **Machine Learning**\n",
        "<p>  ML  significa \"Machine Learning\" en inglés, y se refiere a una rama de la inteligencia artificial que se enfoca en el desarrollo de algoritmos y técnicas que permiten a los ordenadores aprender a través de la experiencia y los datos, en lugar de ser programados explícitamente para realizar una tarea.\n",
        "\n",
        "En otras palabras, el aprendizaje automático se basa en la idea de que las máquinas pueden mejorar su rendimiento en una tarea a medida que reciben más datos y retroalimentación, y utilizan esta información para ajustar sus modelos y algoritmos.\n",
        "\n",
        "El aprendizaje automático se aplica en una amplia variedad de campos, incluyendo el reconocimiento de imágenes y voz, el procesamiento del lenguaje natural, la detección de fraudes y anomalías, la predicción de riesgos financieros y la optimización de procesos empresariales.</p>"
      ]
    },
    {
      "cell_type": "markdown",
      "id": "43909a4e",
      "metadata": {
        "id": "43909a4e"
      },
      "source": [
        "<img src=\"aplicaciones.png\" alt=\"Alt text\" width=\"700\"/>"
      ]
    },
    {
      "cell_type": "markdown",
      "id": "6a57bff2",
      "metadata": {
        "id": "6a57bff2"
      },
      "source": [
        "#### **Tipos de Apredizaje Automático**\n",
        "<p>El aprendizaje automático se puede dividir en dos categorías principales: aprendizaje supervisado y aprendizaje no supervisado.\n",
        "\n",
        "El <strong>aprendizaje supervisado</strong> es aquel en el que se proporciona al algoritmo de aprendizaje un conjunto de datos etiquetados, es decir, datos que ya tienen una clasificación o etiqueta asignada. El objetivo del algoritmo es aprender a clasificar nuevos datos o predecir valores de salida basados en los datos de entrada. Por ejemplo, un algoritmo de aprendizaje supervisado puede ser entrenado para clasificar correos electrónicos como spam o no spam, o para predecir el precio de una casa en función de sus características.\n",
        "\n",
        "Por otro lado, el <strong>aprendizaje no supervisado</strong> es aquel en el que no se proporcionan etiquetas para los datos. El objetivo del algoritmo es descubrir patrones y estructuras en los datos sin ninguna guía específica. Por ejemplo, un algoritmo de aprendizaje no supervisado puede ser utilizado para agrupar clientes de una tienda en diferentes categorías basadas en su comportamiento de compra, o para encontrar patrones en grandes conjuntos de datos sin etiquetas.\n",
        "\n",
        "Podemos afirmar que, mientras que el aprendizaje supervisado se  <em>enfoca en aprender a predecir valores de salida a partir de datos etiquetados </em>, el  <em>aprendizaje no supervisado se enfoca en descubrir patrones y estructuras en los datos </em> sin ninguna guía específica.</p>"
      ]
    },
    {
      "cell_type": "markdown",
      "id": "bd33f6f2",
      "metadata": {
        "id": "bd33f6f2"
      },
      "source": [
        "##### **Tipos de Algoritmos ML**\n",
        "Existen varios tipos de algoritmos en el aprendizaje automático (ML), cada uno de ellos con su propia técnica y propósito específico. Aquí hay algunos ejemplos:\n",
        "\n",
        "1. Regresión: se utiliza para predecir valores continuos, como el precio de una casa o el salario de una persona.\n",
        "\n",
        "2. Clasificación: se utiliza para predecir valores discretos, como si un correo electrónico es spam o no, o si una imagen contiene un gato o un perro.\n",
        "\n",
        "3. Clustering: se utiliza para agrupar datos similares en grupos o clústeres, como clientes con comportamientos de compra similares.\n",
        "\n",
        "4. Árboles de decisión: se utilizan para representar decisiones y acciones en un formato similar a un árbol, donde cada nodo representa una decisión y cada rama representa una acción.\n",
        "\n",
        "5. Redes neuronales: se utilizan para imitar el funcionamiento del cerebro humano y se utilizan para tareas complejas de clasificación y predicción.\n",
        "\n",
        "6. Aprendizaje profundo: una subcategoría de las redes neuronales que utiliza múltiples capas de procesamiento para aprender características complejas de los datos.\n",
        "\n",
        "7. Aprendizaje por refuerzo: se utiliza para entrenar modelos que puedan tomar decisiones y acciones óptimas en un entorno específico, basándose en la retroalimentación y recompensas recibidas.\n",
        "\n",
        "Estos son solo algunos ejemplos de los muchos tipos de algoritmos de ML que existen, y la <strong>elección del algoritmo adecuado dependerá de la tarea específica que se quiera resolver</strong>."
      ]
    },
    {
      "cell_type": "markdown",
      "id": "driven-victoria",
      "metadata": {
        "id": "driven-victoria"
      },
      "source": [
        "![](\"LR3.png\")"
      ]
    },
    {
      "cell_type": "markdown",
      "id": "846c502e",
      "metadata": {
        "id": "846c502e"
      },
      "source": [
        "##### **Regresión Lineal Simple ó Múltiple**\n",
        "\n",
        "<p>La regresión lineal es un método estadístico que se utiliza para modelar la relación entre una variable dependiente y una o más variables independientes. En su forma más simple, se trata de una función lineal que se ajusta a un conjunto de datos para predecir valores de la variable dependiente en función de los valores de las variables independientes.\n",
        "\n",
        "En la regresión lineal, se parte de la hipótesis de que la relación entre la variable dependiente y las variables independientes es lineal, lo que significa que la variable dependiente puede expresarse como una combinación lineal de las variables independientes.\n",
        "\n",
        "El objetivo de la regresión lineal es encontrar los valores de los parámetros de la función lineal que mejor se ajusten a los datos. Esto se logra mediante la minimización de la suma de los errores al cuadrado entre los valores reales de la variable dependiente y los valores predichos por el modelo.\n",
        "\n",
        "La regresión lineal se utiliza en una amplia variedad de campos, incluyendo la economía, la psicología, la biología, la ingeniería y la ciencia de datos. Es una técnica simple pero poderosa que puede proporcionar información valiosa sobre la relación entre las variables.  </p>"
      ]
    },
    {
      "cell_type": "markdown",
      "id": "assured-footage",
      "metadata": {
        "id": "assured-footage"
      },
      "source": [
        "<img src=\"LR5.png\" alt=\"Alt text\" width=\"700\"/>"
      ]
    },
    {
      "cell_type": "markdown",
      "id": "hybrid-employee",
      "metadata": {
        "id": "hybrid-employee"
      },
      "source": [
        "<img src=\"LR6.png\" alt=\"Alt text\" width=\"700\"/>"
      ]
    },
    {
      "cell_type": "markdown",
      "id": "athletic-mandate",
      "metadata": {
        "id": "athletic-mandate"
      },
      "source": [
        "<img src=\"LR7.png\" alt=\"Alt text\" width=\"700\"/>"
      ]
    },
    {
      "cell_type": "markdown",
      "id": "affecting-blocking",
      "metadata": {
        "id": "affecting-blocking"
      },
      "source": [
        "<img src=\"LR8.png\" alt=\"Alt text\" width=\"700\"/>"
      ]
    },
    {
      "cell_type": "markdown",
      "id": "unavailable-richardson",
      "metadata": {
        "id": "unavailable-richardson"
      },
      "source": [
        "##### **Regresión Lineal Simple con Python**\n",
        "El paquete *statsmodel* ayuda para elaborar la regresión lineal"
      ]
    },
    {
      "cell_type": "code",
      "execution_count": 49,
      "id": "another-squad",
      "metadata": {
        "id": "another-squad"
      },
      "outputs": [],
      "source": [
        "# Importamos librerias\n",
        "import pandas as pd\n",
        "import numpy as np"
      ]
    },
    {
      "cell_type": "code",
      "execution_count": 50,
      "id": "local-qualification",
      "metadata": {
        "id": "local-qualification"
      },
      "outputs": [],
      "source": [
        "#Graficar la regresión lineal\n",
        "import matplotlib.pyplot as plt"
      ]
    },
    {
      "cell_type": "code",
      "execution_count": 51,
      "id": "minimal-sight",
      "metadata": {
        "id": "minimal-sight"
      },
      "outputs": [],
      "source": [
        "# Leemos dataset csv\n",
        "data = pd.read_csv(\"Sales_200_days.csv\")\n"
      ]
    },
    {
      "cell_type": "code",
      "execution_count": 7,
      "id": "convinced-semiconductor",
      "metadata": {
        "colab": {
          "base_uri": "https://localhost:8080/",
          "height": 206
        },
        "id": "convinced-semiconductor",
        "outputId": "f0f6a3fb-7e71-4da8-f2a2-78652a8b985f"
      },
      "outputs": [
        {
          "data": {
            "text/html": [
              "<div>\n",
              "<style scoped>\n",
              "    .dataframe tbody tr th:only-of-type {\n",
              "        vertical-align: middle;\n",
              "    }\n",
              "\n",
              "    .dataframe tbody tr th {\n",
              "        vertical-align: top;\n",
              "    }\n",
              "\n",
              "    .dataframe thead th {\n",
              "        text-align: right;\n",
              "    }\n",
              "</style>\n",
              "<table border=\"1\" class=\"dataframe\">\n",
              "  <thead>\n",
              "    <tr style=\"text-align: right;\">\n",
              "      <th></th>\n",
              "      <th>TV</th>\n",
              "      <th>Radio</th>\n",
              "      <th>Newspaper</th>\n",
              "      <th>Sales</th>\n",
              "    </tr>\n",
              "  </thead>\n",
              "  <tbody>\n",
              "    <tr>\n",
              "      <th>0</th>\n",
              "      <td>230.1</td>\n",
              "      <td>37.8</td>\n",
              "      <td>69.2</td>\n",
              "      <td>22.1</td>\n",
              "    </tr>\n",
              "    <tr>\n",
              "      <th>1</th>\n",
              "      <td>44.5</td>\n",
              "      <td>39.3</td>\n",
              "      <td>45.1</td>\n",
              "      <td>10.4</td>\n",
              "    </tr>\n",
              "    <tr>\n",
              "      <th>2</th>\n",
              "      <td>17.2</td>\n",
              "      <td>45.9</td>\n",
              "      <td>69.3</td>\n",
              "      <td>9.3</td>\n",
              "    </tr>\n",
              "    <tr>\n",
              "      <th>3</th>\n",
              "      <td>151.5</td>\n",
              "      <td>41.3</td>\n",
              "      <td>58.5</td>\n",
              "      <td>18.5</td>\n",
              "    </tr>\n",
              "    <tr>\n",
              "      <th>4</th>\n",
              "      <td>180.8</td>\n",
              "      <td>10.8</td>\n",
              "      <td>58.4</td>\n",
              "      <td>12.9</td>\n",
              "    </tr>\n",
              "  </tbody>\n",
              "</table>\n",
              "</div>"
            ],
            "text/plain": [
              "      TV  Radio  Newspaper  Sales\n",
              "0  230.1   37.8       69.2   22.1\n",
              "1   44.5   39.3       45.1   10.4\n",
              "2   17.2   45.9       69.3    9.3\n",
              "3  151.5   41.3       58.5   18.5\n",
              "4  180.8   10.8       58.4   12.9"
            ]
          },
          "execution_count": 7,
          "metadata": {},
          "output_type": "execute_result"
        }
      ],
      "source": [
        "# Explorar el dataset\n",
        "data.head()"
      ]
    },
    {
      "cell_type": "markdown",
      "id": "FhfE5Dt-VllP",
      "metadata": {
        "id": "FhfE5Dt-VllP"
      },
      "source": [
        "Predicción lineal para la TV"
      ]
    },
    {
      "cell_type": "code",
      "execution_count": 9,
      "id": "catholic-peeing",
      "metadata": {
        "id": "catholic-peeing"
      },
      "outputs": [],
      "source": [
        "# Importamos statsmodels para obtener la regresión lineal\n",
        "import statsmodels.formula.api as smf"
      ]
    },
    {
      "cell_type": "code",
      "execution_count": 10,
      "id": "crucial-hungary",
      "metadata": {
        "id": "crucial-hungary"
      },
      "outputs": [],
      "source": [
        "# Relacionamos la variable independiente TV con la variable dependiente Ventas (Sales)\n",
        "lm_tv = smf.ols(formula=\"Sales~TV\", data = data).fit()"
      ]
    },
    {
      "cell_type": "code",
      "execution_count": 11,
      "id": "physical-senate",
      "metadata": {
        "colab": {
          "base_uri": "https://localhost:8080/"
        },
        "id": "physical-senate",
        "outputId": "8d7e637f-3c83-4064-919f-1a562cfefa92"
      },
      "outputs": [
        {
          "data": {
            "text/plain": [
              "Intercept    7.032594\n",
              "TV           0.047537\n",
              "dtype: float64"
            ]
          },
          "execution_count": 11,
          "metadata": {},
          "output_type": "execute_result"
        }
      ],
      "source": [
        "lm_tv.params\n",
        "\n",
        "# Nota el valor de predicción sería Sales = 7.032594 + 0.047537 * TV"
      ]
    },
    {
      "cell_type": "code",
      "execution_count": 12,
      "id": "independent-victory",
      "metadata": {
        "colab": {
          "base_uri": "https://localhost:8080/"
        },
        "id": "independent-victory",
        "outputId": "60c8e7be-23ae-4f18-f39b-c89242894ff1"
      },
      "outputs": [
        {
          "data": {
            "text/plain": [
              "Intercept    1.406300e-35\n",
              "TV           1.467390e-42\n",
              "dtype: float64"
            ]
          },
          "execution_count": 12,
          "metadata": {},
          "output_type": "execute_result"
        }
      ],
      "source": [
        "# Determinar el valor del coeficiente de predictibilidad\n",
        "lm_tv.pvalues"
      ]
    },
    {
      "cell_type": "code",
      "execution_count": 13,
      "id": "third-figure",
      "metadata": {
        "colab": {
          "base_uri": "https://localhost:8080/",
          "height": 434
        },
        "id": "third-figure",
        "outputId": "50b35b11-208f-4ac4-88d9-f6d0e4bafe28"
      },
      "outputs": [
        {
          "data": {
            "text/html": [
              "<table class=\"simpletable\">\n",
              "<caption>OLS Regression Results</caption>\n",
              "<tr>\n",
              "  <th>Dep. Variable:</th>          <td>Sales</td>      <th>  R-squared:         </th> <td>   0.612</td>\n",
              "</tr>\n",
              "<tr>\n",
              "  <th>Model:</th>                   <td>OLS</td>       <th>  Adj. R-squared:    </th> <td>   0.610</td>\n",
              "</tr>\n",
              "<tr>\n",
              "  <th>Method:</th>             <td>Least Squares</td>  <th>  F-statistic:       </th> <td>   312.1</td>\n",
              "</tr>\n",
              "<tr>\n",
              "  <th>Date:</th>             <td>Mon, 22 Apr 2024</td> <th>  Prob (F-statistic):</th> <td>1.47e-42</td>\n",
              "</tr>\n",
              "<tr>\n",
              "  <th>Time:</th>                 <td>16:49:40</td>     <th>  Log-Likelihood:    </th> <td> -519.05</td>\n",
              "</tr>\n",
              "<tr>\n",
              "  <th>No. Observations:</th>      <td>   200</td>      <th>  AIC:               </th> <td>   1042.</td>\n",
              "</tr>\n",
              "<tr>\n",
              "  <th>Df Residuals:</th>          <td>   198</td>      <th>  BIC:               </th> <td>   1049.</td>\n",
              "</tr>\n",
              "<tr>\n",
              "  <th>Df Model:</th>              <td>     1</td>      <th>                     </th>     <td> </td>   \n",
              "</tr>\n",
              "<tr>\n",
              "  <th>Covariance Type:</th>      <td>nonrobust</td>    <th>                     </th>     <td> </td>   \n",
              "</tr>\n",
              "</table>\n",
              "<table class=\"simpletable\">\n",
              "<tr>\n",
              "      <td></td>         <th>coef</th>     <th>std err</th>      <th>t</th>      <th>P>|t|</th>  <th>[0.025</th>    <th>0.975]</th>  \n",
              "</tr>\n",
              "<tr>\n",
              "  <th>Intercept</th> <td>    7.0326</td> <td>    0.458</td> <td>   15.360</td> <td> 0.000</td> <td>    6.130</td> <td>    7.935</td>\n",
              "</tr>\n",
              "<tr>\n",
              "  <th>TV</th>        <td>    0.0475</td> <td>    0.003</td> <td>   17.668</td> <td> 0.000</td> <td>    0.042</td> <td>    0.053</td>\n",
              "</tr>\n",
              "</table>\n",
              "<table class=\"simpletable\">\n",
              "<tr>\n",
              "  <th>Omnibus:</th>       <td> 0.531</td> <th>  Durbin-Watson:     </th> <td>   1.935</td>\n",
              "</tr>\n",
              "<tr>\n",
              "  <th>Prob(Omnibus):</th> <td> 0.767</td> <th>  Jarque-Bera (JB):  </th> <td>   0.669</td>\n",
              "</tr>\n",
              "<tr>\n",
              "  <th>Skew:</th>          <td>-0.089</td> <th>  Prob(JB):          </th> <td>   0.716</td>\n",
              "</tr>\n",
              "<tr>\n",
              "  <th>Kurtosis:</th>      <td> 2.779</td> <th>  Cond. No.          </th> <td>    338.</td>\n",
              "</tr>\n",
              "</table><br/><br/>Notes:<br/>[1] Standard Errors assume that the covariance matrix of the errors is correctly specified."
            ],
            "text/latex": [
              "\\begin{center}\n",
              "\\begin{tabular}{lclc}\n",
              "\\toprule\n",
              "\\textbf{Dep. Variable:}    &      Sales       & \\textbf{  R-squared:         } &     0.612   \\\\\n",
              "\\textbf{Model:}            &       OLS        & \\textbf{  Adj. R-squared:    } &     0.610   \\\\\n",
              "\\textbf{Method:}           &  Least Squares   & \\textbf{  F-statistic:       } &     312.1   \\\\\n",
              "\\textbf{Date:}             & Mon, 22 Apr 2024 & \\textbf{  Prob (F-statistic):} &  1.47e-42   \\\\\n",
              "\\textbf{Time:}             &     16:49:40     & \\textbf{  Log-Likelihood:    } &   -519.05   \\\\\n",
              "\\textbf{No. Observations:} &         200      & \\textbf{  AIC:               } &     1042.   \\\\\n",
              "\\textbf{Df Residuals:}     &         198      & \\textbf{  BIC:               } &     1049.   \\\\\n",
              "\\textbf{Df Model:}         &           1      & \\textbf{                     } &             \\\\\n",
              "\\textbf{Covariance Type:}  &    nonrobust     & \\textbf{                     } &             \\\\\n",
              "\\bottomrule\n",
              "\\end{tabular}\n",
              "\\begin{tabular}{lcccccc}\n",
              "                   & \\textbf{coef} & \\textbf{std err} & \\textbf{t} & \\textbf{P$> |$t$|$} & \\textbf{[0.025} & \\textbf{0.975]}  \\\\\n",
              "\\midrule\n",
              "\\textbf{Intercept} &       7.0326  &        0.458     &    15.360  &         0.000        &        6.130    &        7.935     \\\\\n",
              "\\textbf{TV}        &       0.0475  &        0.003     &    17.668  &         0.000        &        0.042    &        0.053     \\\\\n",
              "\\bottomrule\n",
              "\\end{tabular}\n",
              "\\begin{tabular}{lclc}\n",
              "\\textbf{Omnibus:}       &  0.531 & \\textbf{  Durbin-Watson:     } &    1.935  \\\\\n",
              "\\textbf{Prob(Omnibus):} &  0.767 & \\textbf{  Jarque-Bera (JB):  } &    0.669  \\\\\n",
              "\\textbf{Skew:}          & -0.089 & \\textbf{  Prob(JB):          } &    0.716  \\\\\n",
              "\\textbf{Kurtosis:}      &  2.779 & \\textbf{  Cond. No.          } &     338.  \\\\\n",
              "\\bottomrule\n",
              "\\end{tabular}\n",
              "%\\caption{OLS Regression Results}\n",
              "\\end{center}\n",
              "\n",
              "Notes: \\newline\n",
              " [1] Standard Errors assume that the covariance matrix of the errors is correctly specified."
            ],
            "text/plain": [
              "<class 'statsmodels.iolib.summary.Summary'>\n",
              "\"\"\"\n",
              "                            OLS Regression Results                            \n",
              "==============================================================================\n",
              "Dep. Variable:                  Sales   R-squared:                       0.612\n",
              "Model:                            OLS   Adj. R-squared:                  0.610\n",
              "Method:                 Least Squares   F-statistic:                     312.1\n",
              "Date:                Mon, 22 Apr 2024   Prob (F-statistic):           1.47e-42\n",
              "Time:                        16:49:40   Log-Likelihood:                -519.05\n",
              "No. Observations:                 200   AIC:                             1042.\n",
              "Df Residuals:                     198   BIC:                             1049.\n",
              "Df Model:                           1                                         \n",
              "Covariance Type:            nonrobust                                         \n",
              "==============================================================================\n",
              "                 coef    std err          t      P>|t|      [0.025      0.975]\n",
              "------------------------------------------------------------------------------\n",
              "Intercept      7.0326      0.458     15.360      0.000       6.130       7.935\n",
              "TV             0.0475      0.003     17.668      0.000       0.042       0.053\n",
              "==============================================================================\n",
              "Omnibus:                        0.531   Durbin-Watson:                   1.935\n",
              "Prob(Omnibus):                  0.767   Jarque-Bera (JB):                0.669\n",
              "Skew:                          -0.089   Prob(JB):                        0.716\n",
              "Kurtosis:                       2.779   Cond. No.                         338.\n",
              "==============================================================================\n",
              "\n",
              "Notes:\n",
              "[1] Standard Errors assume that the covariance matrix of the errors is correctly specified.\n",
              "\"\"\""
            ]
          },
          "execution_count": 13,
          "metadata": {},
          "output_type": "execute_result"
        }
      ],
      "source": [
        "lm_tv.summary()"
      ]
    },
    {
      "cell_type": "code",
      "execution_count": 14,
      "id": "elegant-capitol",
      "metadata": {
        "colab": {
          "base_uri": "https://localhost:8080/"
        },
        "id": "elegant-capitol",
        "outputId": "46610920-b604-43e2-b48f-1b8c2a3d9f78"
      },
      "outputs": [
        {
          "data": {
            "text/plain": [
              "0      17.970775\n",
              "1       9.147974\n",
              "2       7.850224\n",
              "3      14.234395\n",
              "4      15.627218\n",
              "         ...    \n",
              "195     8.848493\n",
              "196    11.510545\n",
              "197    15.446579\n",
              "198    20.513985\n",
              "199    18.065848\n",
              "Length: 200, dtype: float64"
            ]
          },
          "execution_count": 14,
          "metadata": {},
          "output_type": "execute_result"
        }
      ],
      "source": [
        "# Error de predictibilidad\n",
        "sales_pred_tv = lm_tv.predict(pd.DataFrame(data[\"TV\"]))\n",
        "sales_pred_tv"
      ]
    },
    {
      "cell_type": "code",
      "execution_count": 15,
      "id": "engaging-electric",
      "metadata": {
        "colab": {
          "base_uri": "https://localhost:8080/",
          "height": 467
        },
        "id": "engaging-electric",
        "outputId": "b268e6e5-6205-4e7d-ba6b-b306bc1974be"
      },
      "outputs": [
        {
          "data": {
            "text/plain": [
              "[<matplotlib.lines.Line2D at 0x1e768656250>]"
            ]
          },
          "execution_count": 15,
          "metadata": {},
          "output_type": "execute_result"
        },
        {
          "data": {
            "image/png": "[encoded data removed]",
            "text/plain": [
              "<Figure size 640x480 with 1 Axes>"
            ]
          },
          "metadata": {},
          "output_type": "display_data"
        }
      ],
      "source": [
        "%matplotlib inline\n",
        "data.plot(kind = \"scatter\", x = \"TV\", y=\"Sales\")\n",
        "plt.plot(pd.DataFrame(data[\"TV\"]), sales_pred_tv, c = \"red\", linewidth= 3)"
      ]
    },
    {
      "cell_type": "markdown",
      "id": "1f1a9d32",
      "metadata": {
        "id": "1f1a9d32"
      },
      "source": [
        "##### **Actividades**\n",
        "\n",
        "<p>A partir de aquí crea celdas y agrega tus resultados</p>\n"
      ]
    },
    {
      "cell_type": "markdown",
      "id": "Xeg6Dn-_V2kT",
      "metadata": {
        "id": "Xeg6Dn-_V2kT"
      },
      "source": [
        "**Predicción lineal para el Radio**"
      ]
    },
    {
      "cell_type": "code",
      "execution_count": 16,
      "id": "7hVxjJ-1M4DX",
      "metadata": {
        "id": "7hVxjJ-1M4DX"
      },
      "outputs": [],
      "source": [
        "# Relacionamos la variable independiente Radio con la variable dependiente Ventas (Sales)\n",
        "lm_radio = smf.ols(formula=\"Sales~Radio\", data = data).fit()"
      ]
    },
    {
      "cell_type": "code",
      "execution_count": 17,
      "id": "xb7a3ibdND5C",
      "metadata": {
        "colab": {
          "base_uri": "https://localhost:8080/"
        },
        "id": "xb7a3ibdND5C",
        "outputId": "e3bde1af-a966-44d8-f456-0b40c4efed02"
      },
      "outputs": [
        {
          "data": {
            "text/plain": [
              "Intercept    9.311638\n",
              "Radio        0.202496\n",
              "dtype: float64"
            ]
          },
          "execution_count": 17,
          "metadata": {},
          "output_type": "execute_result"
        }
      ],
      "source": [
        "lm_radio.params"
      ]
    },
    {
      "cell_type": "code",
      "execution_count": 18,
      "id": "QEKbOuDzNFeW",
      "metadata": {
        "colab": {
          "base_uri": "https://localhost:8080/"
        },
        "id": "QEKbOuDzNFeW",
        "outputId": "d83dd966-57cd-4c09-c01a-42318bdbee67"
      },
      "outputs": [
        {
          "data": {
            "text/plain": [
              "Intercept    3.561071e-39\n",
              "Radio        4.354966e-19\n",
              "dtype: float64"
            ]
          },
          "execution_count": 18,
          "metadata": {},
          "output_type": "execute_result"
        }
      ],
      "source": [
        "# Determinar el valor del coeficiente de predictibilidad\n",
        "lm_radio.pvalues"
      ]
    },
    {
      "cell_type": "code",
      "execution_count": 19,
      "id": "_5viceBnNMJm",
      "metadata": {
        "colab": {
          "base_uri": "https://localhost:8080/",
          "height": 434
        },
        "id": "_5viceBnNMJm",
        "outputId": "cd7832c1-4b40-46f6-e33f-cbeee7f32376"
      },
      "outputs": [
        {
          "data": {
            "text/html": [
              "<table class=\"simpletable\">\n",
              "<caption>OLS Regression Results</caption>\n",
              "<tr>\n",
              "  <th>Dep. Variable:</th>          <td>Sales</td>      <th>  R-squared:         </th> <td>   0.332</td>\n",
              "</tr>\n",
              "<tr>\n",
              "  <th>Model:</th>                   <td>OLS</td>       <th>  Adj. R-squared:    </th> <td>   0.329</td>\n",
              "</tr>\n",
              "<tr>\n",
              "  <th>Method:</th>             <td>Least Squares</td>  <th>  F-statistic:       </th> <td>   98.42</td>\n",
              "</tr>\n",
              "<tr>\n",
              "  <th>Date:</th>             <td>Mon, 22 Apr 2024</td> <th>  Prob (F-statistic):</th> <td>4.35e-19</td>\n",
              "</tr>\n",
              "<tr>\n",
              "  <th>Time:</th>                 <td>16:51:05</td>     <th>  Log-Likelihood:    </th> <td> -573.34</td>\n",
              "</tr>\n",
              "<tr>\n",
              "  <th>No. Observations:</th>      <td>   200</td>      <th>  AIC:               </th> <td>   1151.</td>\n",
              "</tr>\n",
              "<tr>\n",
              "  <th>Df Residuals:</th>          <td>   198</td>      <th>  BIC:               </th> <td>   1157.</td>\n",
              "</tr>\n",
              "<tr>\n",
              "  <th>Df Model:</th>              <td>     1</td>      <th>                     </th>     <td> </td>   \n",
              "</tr>\n",
              "<tr>\n",
              "  <th>Covariance Type:</th>      <td>nonrobust</td>    <th>                     </th>     <td> </td>   \n",
              "</tr>\n",
              "</table>\n",
              "<table class=\"simpletable\">\n",
              "<tr>\n",
              "      <td></td>         <th>coef</th>     <th>std err</th>      <th>t</th>      <th>P>|t|</th>  <th>[0.025</th>    <th>0.975]</th>  \n",
              "</tr>\n",
              "<tr>\n",
              "  <th>Intercept</th> <td>    9.3116</td> <td>    0.563</td> <td>   16.542</td> <td> 0.000</td> <td>    8.202</td> <td>   10.422</td>\n",
              "</tr>\n",
              "<tr>\n",
              "  <th>Radio</th>     <td>    0.2025</td> <td>    0.020</td> <td>    9.921</td> <td> 0.000</td> <td>    0.162</td> <td>    0.243</td>\n",
              "</tr>\n",
              "</table>\n",
              "<table class=\"simpletable\">\n",
              "<tr>\n",
              "  <th>Omnibus:</th>       <td>19.358</td> <th>  Durbin-Watson:     </th> <td>   1.946</td>\n",
              "</tr>\n",
              "<tr>\n",
              "  <th>Prob(Omnibus):</th> <td> 0.000</td> <th>  Jarque-Bera (JB):  </th> <td>  21.910</td>\n",
              "</tr>\n",
              "<tr>\n",
              "  <th>Skew:</th>          <td>-0.764</td> <th>  Prob(JB):          </th> <td>1.75e-05</td>\n",
              "</tr>\n",
              "<tr>\n",
              "  <th>Kurtosis:</th>      <td> 3.544</td> <th>  Cond. No.          </th> <td>    51.4</td>\n",
              "</tr>\n",
              "</table><br/><br/>Notes:<br/>[1] Standard Errors assume that the covariance matrix of the errors is correctly specified."
            ],
            "text/latex": [
              "\\begin{center}\n",
              "\\begin{tabular}{lclc}\n",
              "\\toprule\n",
              "\\textbf{Dep. Variable:}    &      Sales       & \\textbf{  R-squared:         } &     0.332   \\\\\n",
              "\\textbf{Model:}            &       OLS        & \\textbf{  Adj. R-squared:    } &     0.329   \\\\\n",
              "\\textbf{Method:}           &  Least Squares   & \\textbf{  F-statistic:       } &     98.42   \\\\\n",
              "\\textbf{Date:}             & Mon, 22 Apr 2024 & \\textbf{  Prob (F-statistic):} &  4.35e-19   \\\\\n",
              "\\textbf{Time:}             &     16:51:05     & \\textbf{  Log-Likelihood:    } &   -573.34   \\\\\n",
              "\\textbf{No. Observations:} &         200      & \\textbf{  AIC:               } &     1151.   \\\\\n",
              "\\textbf{Df Residuals:}     &         198      & \\textbf{  BIC:               } &     1157.   \\\\\n",
              "\\textbf{Df Model:}         &           1      & \\textbf{                     } &             \\\\\n",
              "\\textbf{Covariance Type:}  &    nonrobust     & \\textbf{                     } &             \\\\\n",
              "\\bottomrule\n",
              "\\end{tabular}\n",
              "\\begin{tabular}{lcccccc}\n",
              "                   & \\textbf{coef} & \\textbf{std err} & \\textbf{t} & \\textbf{P$> |$t$|$} & \\textbf{[0.025} & \\textbf{0.975]}  \\\\\n",
              "\\midrule\n",
              "\\textbf{Intercept} &       9.3116  &        0.563     &    16.542  &         0.000        &        8.202    &       10.422     \\\\\n",
              "\\textbf{Radio}     &       0.2025  &        0.020     &     9.921  &         0.000        &        0.162    &        0.243     \\\\\n",
              "\\bottomrule\n",
              "\\end{tabular}\n",
              "\\begin{tabular}{lclc}\n",
              "\\textbf{Omnibus:}       & 19.358 & \\textbf{  Durbin-Watson:     } &    1.946  \\\\\n",
              "\\textbf{Prob(Omnibus):} &  0.000 & \\textbf{  Jarque-Bera (JB):  } &   21.910  \\\\\n",
              "\\textbf{Skew:}          & -0.764 & \\textbf{  Prob(JB):          } & 1.75e-05  \\\\\n",
              "\\textbf{Kurtosis:}      &  3.544 & \\textbf{  Cond. No.          } &     51.4  \\\\\n",
              "\\bottomrule\n",
              "\\end{tabular}\n",
              "%\\caption{OLS Regression Results}\n",
              "\\end{center}\n",
              "\n",
              "Notes: \\newline\n",
              " [1] Standard Errors assume that the covariance matrix of the errors is correctly specified."
            ],
            "text/plain": [
              "<class 'statsmodels.iolib.summary.Summary'>\n",
              "\"\"\"\n",
              "                            OLS Regression Results                            \n",
              "==============================================================================\n",
              "Dep. Variable:                  Sales   R-squared:                       0.332\n",
              "Model:                            OLS   Adj. R-squared:                  0.329\n",
              "Method:                 Least Squares   F-statistic:                     98.42\n",
              "Date:                Mon, 22 Apr 2024   Prob (F-statistic):           4.35e-19\n",
              "Time:                        16:51:05   Log-Likelihood:                -573.34\n",
              "No. Observations:                 200   AIC:                             1151.\n",
              "Df Residuals:                     198   BIC:                             1157.\n",
              "Df Model:                           1                                         \n",
              "Covariance Type:            nonrobust                                         \n",
              "==============================================================================\n",
              "                 coef    std err          t      P>|t|      [0.025      0.975]\n",
              "------------------------------------------------------------------------------\n",
              "Intercept      9.3116      0.563     16.542      0.000       8.202      10.422\n",
              "Radio          0.2025      0.020      9.921      0.000       0.162       0.243\n",
              "==============================================================================\n",
              "Omnibus:                       19.358   Durbin-Watson:                   1.946\n",
              "Prob(Omnibus):                  0.000   Jarque-Bera (JB):               21.910\n",
              "Skew:                          -0.764   Prob(JB):                     1.75e-05\n",
              "Kurtosis:                       3.544   Cond. No.                         51.4\n",
              "==============================================================================\n",
              "\n",
              "Notes:\n",
              "[1] Standard Errors assume that the covariance matrix of the errors is correctly specified.\n",
              "\"\"\""
            ]
          },
          "execution_count": 19,
          "metadata": {},
          "output_type": "execute_result"
        }
      ],
      "source": [
        "lm_radio.summary()"
      ]
    },
    {
      "cell_type": "code",
      "execution_count": 20,
      "id": "v8gPLOBhNwyK",
      "metadata": {
        "colab": {
          "base_uri": "https://localhost:8080/"
        },
        "id": "v8gPLOBhNwyK",
        "outputId": "8d24c100-c7c2-4cbd-aa7d-f2d0eeb2a47c"
      },
      "outputs": [
        {
          "data": {
            "text/plain": [
              "0      16.965979\n",
              "1      17.269722\n",
              "2      18.606195\n",
              "3      17.674714\n",
              "4      11.498593\n",
              "         ...    \n",
              "195    10.060872\n",
              "196    10.303867\n",
              "197    11.194849\n",
              "198    17.816461\n",
              "199    11.053102\n",
              "Length: 200, dtype: float64"
            ]
          },
          "execution_count": 20,
          "metadata": {},
          "output_type": "execute_result"
        }
      ],
      "source": [
        "# Error de predictibilidad\n",
        "sales_pred_radio = lm_radio.predict(pd.DataFrame(data[\"Radio\"]))\n",
        "sales_pred_radio"
      ]
    },
    {
      "cell_type": "code",
      "execution_count": 21,
      "id": "7WrmwNsuNQCM",
      "metadata": {
        "colab": {
          "base_uri": "https://localhost:8080/",
          "height": 467
        },
        "id": "7WrmwNsuNQCM",
        "outputId": "47f0e60d-b301-4645-d79e-f14c9c87f384"
      },
      "outputs": [
        {
          "data": {
            "text/plain": [
              "[<matplotlib.lines.Line2D at 0x1e76867a9d0>]"
            ]
          },
          "execution_count": 21,
          "metadata": {},
          "output_type": "execute_result"
        },
        {
          "data": {
            "image/png": "[encoded data removed]",
            "text/plain": [
              "<Figure size 640x480 with 1 Axes>"
            ]
          },
          "metadata": {},
          "output_type": "display_data"
        }
      ],
      "source": [
        "%matplotlib inline\n",
        "data.plot(kind = \"scatter\", x = \"Radio\", y=\"Sales\")\n",
        "plt.plot(pd.DataFrame(data[\"Radio\"]), sales_pred_radio, c = \"red\", linewidth= 3)"
      ]
    },
    {
      "cell_type": "markdown",
      "id": "th7kby-LV6su",
      "metadata": {
        "id": "th7kby-LV6su"
      },
      "source": [
        "**Predicción lineal para el Periodico**"
      ]
    },
    {
      "cell_type": "code",
      "execution_count": 22,
      "id": "MAiEQEkzN5fO",
      "metadata": {
        "id": "MAiEQEkzN5fO"
      },
      "outputs": [],
      "source": [
        "# Relacionamos la variable independiente Newspaper con la variable dependiente Ventas (Sales)\n",
        "lm_newspaper = smf.ols(formula=\"Sales~Newspaper\", data = data).fit()"
      ]
    },
    {
      "cell_type": "code",
      "execution_count": 23,
      "id": "MxlMJbBTN7Rq",
      "metadata": {
        "colab": {
          "base_uri": "https://localhost:8080/"
        },
        "id": "MxlMJbBTN7Rq",
        "outputId": "59c467f0-e1a8-47b2-9f73-f5b6aa146ef7"
      },
      "outputs": [
        {
          "data": {
            "text/plain": [
              "Intercept    12.351407\n",
              "Newspaper     0.054693\n",
              "dtype: float64"
            ]
          },
          "execution_count": 23,
          "metadata": {},
          "output_type": "execute_result"
        }
      ],
      "source": [
        "lm_newspaper.params"
      ]
    },
    {
      "cell_type": "code",
      "execution_count": 24,
      "id": "6LSf4BtgOAEA",
      "metadata": {
        "colab": {
          "base_uri": "https://localhost:8080/"
        },
        "id": "6LSf4BtgOAEA",
        "outputId": "caaf0e21-6057-48e5-e00f-997089df50c9"
      },
      "outputs": [
        {
          "data": {
            "text/plain": [
              "Intercept    4.713507e-49\n",
              "Newspaper    1.148196e-03\n",
              "dtype: float64"
            ]
          },
          "execution_count": 24,
          "metadata": {},
          "output_type": "execute_result"
        }
      ],
      "source": [
        "# Determinar el valor del coeficiente de predictibilidad\n",
        "lm_newspaper.pvalues"
      ]
    },
    {
      "cell_type": "code",
      "execution_count": 25,
      "id": "-n2iR3c4OCWy",
      "metadata": {
        "colab": {
          "base_uri": "https://localhost:8080/",
          "height": 434
        },
        "id": "-n2iR3c4OCWy",
        "outputId": "b4231edb-1e69-40f7-e4d3-eaacc018afe9"
      },
      "outputs": [
        {
          "data": {
            "text/html": [
              "<table class=\"simpletable\">\n",
              "<caption>OLS Regression Results</caption>\n",
              "<tr>\n",
              "  <th>Dep. Variable:</th>          <td>Sales</td>      <th>  R-squared:         </th> <td>   0.052</td>\n",
              "</tr>\n",
              "<tr>\n",
              "  <th>Model:</th>                   <td>OLS</td>       <th>  Adj. R-squared:    </th> <td>   0.047</td>\n",
              "</tr>\n",
              "<tr>\n",
              "  <th>Method:</th>             <td>Least Squares</td>  <th>  F-statistic:       </th> <td>   10.89</td>\n",
              "</tr>\n",
              "<tr>\n",
              "  <th>Date:</th>             <td>Mon, 22 Apr 2024</td> <th>  Prob (F-statistic):</th>  <td>0.00115</td>\n",
              "</tr>\n",
              "<tr>\n",
              "  <th>Time:</th>                 <td>16:51:39</td>     <th>  Log-Likelihood:    </th> <td> -608.34</td>\n",
              "</tr>\n",
              "<tr>\n",
              "  <th>No. Observations:</th>      <td>   200</td>      <th>  AIC:               </th> <td>   1221.</td>\n",
              "</tr>\n",
              "<tr>\n",
              "  <th>Df Residuals:</th>          <td>   198</td>      <th>  BIC:               </th> <td>   1227.</td>\n",
              "</tr>\n",
              "<tr>\n",
              "  <th>Df Model:</th>              <td>     1</td>      <th>                     </th>     <td> </td>   \n",
              "</tr>\n",
              "<tr>\n",
              "  <th>Covariance Type:</th>      <td>nonrobust</td>    <th>                     </th>     <td> </td>   \n",
              "</tr>\n",
              "</table>\n",
              "<table class=\"simpletable\">\n",
              "<tr>\n",
              "      <td></td>         <th>coef</th>     <th>std err</th>      <th>t</th>      <th>P>|t|</th>  <th>[0.025</th>    <th>0.975]</th>  \n",
              "</tr>\n",
              "<tr>\n",
              "  <th>Intercept</th> <td>   12.3514</td> <td>    0.621</td> <td>   19.876</td> <td> 0.000</td> <td>   11.126</td> <td>   13.577</td>\n",
              "</tr>\n",
              "<tr>\n",
              "  <th>Newspaper</th> <td>    0.0547</td> <td>    0.017</td> <td>    3.300</td> <td> 0.001</td> <td>    0.022</td> <td>    0.087</td>\n",
              "</tr>\n",
              "</table>\n",
              "<table class=\"simpletable\">\n",
              "<tr>\n",
              "  <th>Omnibus:</th>       <td> 6.231</td> <th>  Durbin-Watson:     </th> <td>   1.983</td>\n",
              "</tr>\n",
              "<tr>\n",
              "  <th>Prob(Omnibus):</th> <td> 0.044</td> <th>  Jarque-Bera (JB):  </th> <td>   5.483</td>\n",
              "</tr>\n",
              "<tr>\n",
              "  <th>Skew:</th>          <td> 0.330</td> <th>  Prob(JB):          </th> <td>  0.0645</td>\n",
              "</tr>\n",
              "<tr>\n",
              "  <th>Kurtosis:</th>      <td> 2.527</td> <th>  Cond. No.          </th> <td>    64.7</td>\n",
              "</tr>\n",
              "</table><br/><br/>Notes:<br/>[1] Standard Errors assume that the covariance matrix of the errors is correctly specified."
            ],
            "text/latex": [
              "\\begin{center}\n",
              "\\begin{tabular}{lclc}\n",
              "\\toprule\n",
              "\\textbf{Dep. Variable:}    &      Sales       & \\textbf{  R-squared:         } &     0.052   \\\\\n",
              "\\textbf{Model:}            &       OLS        & \\textbf{  Adj. R-squared:    } &     0.047   \\\\\n",
              "\\textbf{Method:}           &  Least Squares   & \\textbf{  F-statistic:       } &     10.89   \\\\\n",
              "\\textbf{Date:}             & Mon, 22 Apr 2024 & \\textbf{  Prob (F-statistic):} &  0.00115    \\\\\n",
              "\\textbf{Time:}             &     16:51:39     & \\textbf{  Log-Likelihood:    } &   -608.34   \\\\\n",
              "\\textbf{No. Observations:} &         200      & \\textbf{  AIC:               } &     1221.   \\\\\n",
              "\\textbf{Df Residuals:}     &         198      & \\textbf{  BIC:               } &     1227.   \\\\\n",
              "\\textbf{Df Model:}         &           1      & \\textbf{                     } &             \\\\\n",
              "\\textbf{Covariance Type:}  &    nonrobust     & \\textbf{                     } &             \\\\\n",
              "\\bottomrule\n",
              "\\end{tabular}\n",
              "\\begin{tabular}{lcccccc}\n",
              "                   & \\textbf{coef} & \\textbf{std err} & \\textbf{t} & \\textbf{P$> |$t$|$} & \\textbf{[0.025} & \\textbf{0.975]}  \\\\\n",
              "\\midrule\n",
              "\\textbf{Intercept} &      12.3514  &        0.621     &    19.876  &         0.000        &       11.126    &       13.577     \\\\\n",
              "\\textbf{Newspaper} &       0.0547  &        0.017     &     3.300  &         0.001        &        0.022    &        0.087     \\\\\n",
              "\\bottomrule\n",
              "\\end{tabular}\n",
              "\\begin{tabular}{lclc}\n",
              "\\textbf{Omnibus:}       &  6.231 & \\textbf{  Durbin-Watson:     } &    1.983  \\\\\n",
              "\\textbf{Prob(Omnibus):} &  0.044 & \\textbf{  Jarque-Bera (JB):  } &    5.483  \\\\\n",
              "\\textbf{Skew:}          &  0.330 & \\textbf{  Prob(JB):          } &   0.0645  \\\\\n",
              "\\textbf{Kurtosis:}      &  2.527 & \\textbf{  Cond. No.          } &     64.7  \\\\\n",
              "\\bottomrule\n",
              "\\end{tabular}\n",
              "%\\caption{OLS Regression Results}\n",
              "\\end{center}\n",
              "\n",
              "Notes: \\newline\n",
              " [1] Standard Errors assume that the covariance matrix of the errors is correctly specified."
            ],
            "text/plain": [
              "<class 'statsmodels.iolib.summary.Summary'>\n",
              "\"\"\"\n",
              "                            OLS Regression Results                            \n",
              "==============================================================================\n",
              "Dep. Variable:                  Sales   R-squared:                       0.052\n",
              "Model:                            OLS   Adj. R-squared:                  0.047\n",
              "Method:                 Least Squares   F-statistic:                     10.89\n",
              "Date:                Mon, 22 Apr 2024   Prob (F-statistic):            0.00115\n",
              "Time:                        16:51:39   Log-Likelihood:                -608.34\n",
              "No. Observations:                 200   AIC:                             1221.\n",
              "Df Residuals:                     198   BIC:                             1227.\n",
              "Df Model:                           1                                         \n",
              "Covariance Type:            nonrobust                                         \n",
              "==============================================================================\n",
              "                 coef    std err          t      P>|t|      [0.025      0.975]\n",
              "------------------------------------------------------------------------------\n",
              "Intercept     12.3514      0.621     19.876      0.000      11.126      13.577\n",
              "Newspaper      0.0547      0.017      3.300      0.001       0.022       0.087\n",
              "==============================================================================\n",
              "Omnibus:                        6.231   Durbin-Watson:                   1.983\n",
              "Prob(Omnibus):                  0.044   Jarque-Bera (JB):                5.483\n",
              "Skew:                           0.330   Prob(JB):                       0.0645\n",
              "Kurtosis:                       2.527   Cond. No.                         64.7\n",
              "==============================================================================\n",
              "\n",
              "Notes:\n",
              "[1] Standard Errors assume that the covariance matrix of the errors is correctly specified.\n",
              "\"\"\""
            ]
          },
          "execution_count": 25,
          "metadata": {},
          "output_type": "execute_result"
        }
      ],
      "source": [
        "lm_newspaper.summary()"
      ]
    },
    {
      "cell_type": "code",
      "execution_count": 26,
      "id": "L0Ceak2rOETn",
      "metadata": {
        "colab": {
          "base_uri": "https://localhost:8080/"
        },
        "id": "L0Ceak2rOETn",
        "outputId": "402b6dc1-a3a2-4cff-a033-c8ec255a690b"
      },
      "outputs": [
        {
          "data": {
            "text/plain": [
              "0      16.136169\n",
              "1      14.818066\n",
              "2      16.141639\n",
              "3      15.550953\n",
              "4      15.545484\n",
              "         ...    \n",
              "195    13.106172\n",
              "196    12.794421\n",
              "197    12.701443\n",
              "198    15.972090\n",
              "199    12.827237\n",
              "Length: 200, dtype: float64"
            ]
          },
          "execution_count": 26,
          "metadata": {},
          "output_type": "execute_result"
        }
      ],
      "source": [
        "# Error de predictibilidad\n",
        "sales_pred_newspaper = lm_newspaper.predict(pd.DataFrame(data[\"Newspaper\"]))\n",
        "sales_pred_newspaper"
      ]
    },
    {
      "cell_type": "code",
      "execution_count": 86,
      "id": "9cORldA0ObcD",
      "metadata": {
        "colab": {
          "base_uri": "https://localhost:8080/",
          "height": 467
        },
        "id": "9cORldA0ObcD",
        "outputId": "7a25404c-c207-4076-e449-17876e4b197c"
      },
      "outputs": [
        {
          "data": {
            "text/plain": [
              "[<matplotlib.lines.Line2D at 0x78569fc0d420>]"
            ]
          },
          "execution_count": 86,
          "metadata": {},
          "output_type": "execute_result"
        },
        {
          "data": {
            "image/png": "[encoded data removed]",
            "text/plain": [
              "<Figure size 640x480 with 1 Axes>"
            ]
          },
          "metadata": {},
          "output_type": "display_data"
        }
      ],
      "source": [
        "%matplotlib inline\n",
        "data.plot(kind = \"scatter\", x = \"Newspaper\", y=\"Sales\")\n",
        "plt.plot(pd.DataFrame(data[\"Newspaper\"]), sales_pred_newspaper, c = \"red\", linewidth= 3)"
      ]
    },
    {
      "cell_type": "markdown",
      "id": "BCuxY5ZkcqUm",
      "metadata": {
        "id": "BCuxY5ZkcqUm"
      },
      "source": [
        "**Calcula la variable independiente de mayor relevancia**"
      ]
    },
    {
      "cell_type": "code",
      "execution_count": 46,
      "id": "pshmurGUdQG_",
      "metadata": {
        "id": "pshmurGUdQG_"
      },
      "outputs": [],
      "source": [
        "#Entrada de inverción\n",
        "Investment = 10000"
      ]
    },
    {
      "cell_type": "markdown",
      "id": "668c53cd",
      "metadata": {},
      "source": [
        "Input: TV"
      ]
    },
    {
      "cell_type": "code",
      "execution_count": 47,
      "id": "tTT6XYAmc0xN",
      "metadata": {
        "colab": {
          "base_uri": "https://localhost:8080/"
        },
        "id": "tTT6XYAmc0xN",
        "outputId": "56854786-ec15-4f48-c9ce-00bc7c857623"
      },
      "outputs": [
        {
          "name": "stdout",
          "output_type": "stream",
          "text": [
            "R-cuadrado del modelo de TV de regresión lineal simple: 0.611875050850071\n"
          ]
        }
      ],
      "source": [
        "r_squared_tv = lm_tv.rsquared\n",
        "print(\"R-cuadrado del modelo de TV de regresión lineal simple:\", r_squared_tv)"
      ]
    },
    {
      "cell_type": "code",
      "execution_count": 48,
      "id": "S5VnXAdQdOev",
      "metadata": {
        "colab": {
          "base_uri": "https://localhost:8080/"
        },
        "id": "S5VnXAdQdOev",
        "outputId": "e685baa3-01fc-4690-a801-6c4ddb5c0f42"
      },
      "outputs": [
        {
          "name": "stdout",
          "output_type": "stream",
          "text": [
            "6118.75050850071\n"
          ]
        }
      ],
      "source": [
        "profit_tv = Investment* r_squared_tv\n",
        "\n",
        "print(profit_tv)"
      ]
    },
    {
      "cell_type": "markdown",
      "id": "6bafecb1",
      "metadata": {},
      "source": [
        "Input: Radio"
      ]
    },
    {
      "cell_type": "code",
      "execution_count": 39,
      "id": "AGAbfP3Mc51s",
      "metadata": {
        "colab": {
          "base_uri": "https://localhost:8080/"
        },
        "id": "AGAbfP3Mc51s",
        "outputId": "4ace685e-872c-425f-f5bf-56141f74a405"
      },
      "outputs": [
        {
          "name": "stdout",
          "output_type": "stream",
          "text": [
            "R-cuadrado del modelo de Radio de regresión lineal simple: 0.33203245544529536\n"
          ]
        }
      ],
      "source": [
        "r_squared_radio = lm_radio.rsquared\n",
        "print(\"R-cuadrado del modelo de Radio de regresión lineal simple:\", r_squared_radio)"
      ]
    },
    {
      "cell_type": "code",
      "execution_count": 44,
      "id": "t2i7yPstdwMA",
      "metadata": {
        "colab": {
          "base_uri": "https://localhost:8080/"
        },
        "id": "t2i7yPstdwMA",
        "outputId": "cbc89feb-24f6-4e4d-99e3-12e1806f21e6"
      },
      "outputs": [
        {
          "name": "stdout",
          "output_type": "stream",
          "text": [
            "3320.3245544529536\n"
          ]
        }
      ],
      "source": [
        "invest_radio=Investment*r_squared_radio\n",
        "print(invest_radio)"
      ]
    },
    {
      "cell_type": "markdown",
      "id": "52415b51",
      "metadata": {},
      "source": [
        "Input: Newspaper"
      ]
    },
    {
      "cell_type": "code",
      "execution_count": 41,
      "id": "6eY81su9dCGJ",
      "metadata": {
        "colab": {
          "base_uri": "https://localhost:8080/"
        },
        "id": "6eY81su9dCGJ",
        "outputId": "2892fc2f-834c-4c1f-8742-ed29db5ff067"
      },
      "outputs": [
        {
          "name": "stdout",
          "output_type": "stream",
          "text": [
            "R-cuadrado del modelo de Radio de regresión lineal simple: 0.05212044544430516\n"
          ]
        }
      ],
      "source": [
        "r_squared_newspaper = lm_newspaper.rsquared\n",
        "print(\"R-cuadrado del modelo de Radio de regresión lineal simple:\", r_squared_newspaper)"
      ]
    },
    {
      "cell_type": "code",
      "execution_count": 42,
      "id": "NhKxYpyOdM9a",
      "metadata": {
        "colab": {
          "base_uri": "https://localhost:8080/"
        },
        "id": "NhKxYpyOdM9a",
        "outputId": "7007788c-9d6a-4908-c02c-503955059cfb"
      },
      "outputs": [
        {
          "data": {
            "text/plain": [
              "521.2044544430516"
            ]
          },
          "execution_count": 42,
          "metadata": {},
          "output_type": "execute_result"
        }
      ],
      "source": [
        "profit_newspaper = Investment* r_squared_newspaper\n",
        "\n",
        "profit_newspaper"
      ]
    },
    {
      "cell_type": "markdown",
      "id": "vvkTxIZWgKS2",
      "metadata": {
        "id": "vvkTxIZWgKS2"
      },
      "source": [
        "**Conclusion**"
      ]
    },
    {
      "cell_type": "markdown",
      "id": "ZvhiDxWZgjAf",
      "metadata": {
        "id": "ZvhiDxWZgjAf"
      },
      "source": [
        "Machine learning algorithms are efficient tools to predict future behavior of dependent variables, there are different types of models, some of these models are Linear regression, Reinforcement learning, Clustering, Decision tree, Neural networks, and Deep learning. Machine learning algorithms can be divided in two different groups: \n",
        "\n",
        "* Supervised learning: These models are trained using labels or reference outputs to show to the algorithm the expected results with specific inputs.  \n",
        "\n",
        "* Unsupervised learning: These models are used to find patterns in a dataset, they use clustering techniques to group data with similar patterns.\n",
        "\n",
        "Simple linear regression is a useful way to know the relationship between each independent variable in a system with multiple inputs, using this information, decision makers can understand which parameters are more relevant in the system and the impact from independent variables into dependent variables. \n",
        "\n",
        "In the example developed in this work, it was observed that the input \"TV\" was the input variable impacting the dependent variable in higher proportion, while \"Radio\" and “Newspapers\" were impacting the dependent variables in lower proportion. Using this information the investors can focus the marketing strategy on TV. \n"
      ]
    },
    {
      "cell_type": "markdown",
      "id": "174d3ccf",
      "metadata": {},
      "source": []
    },
    {
      "cell_type": "markdown",
      "id": "a05c8e0e",
      "metadata": {},
      "source": []
    }
  ],
  "metadata": {
    "colab": {
      "provenance": []
    },
    "kernelspec": {
      "display_name": "Python 3",
      "language": "python",
      "name": "python3"
    },
    "language_info": {
      "codemirror_mode": {
        "name": "ipython",
        "version": 3
      },
      "file_extension": ".py",
      "mimetype": "text/x-python",
      "name": "python",
      "nbconvert_exporter": "python",
      "pygments_lexer": "ipython3",
      "version": "3.11.5"
    }
  },
  "nbformat": 4,
  "nbformat_minor": 5
}
